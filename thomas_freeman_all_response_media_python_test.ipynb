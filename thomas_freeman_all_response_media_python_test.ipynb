{
 "cells": [
  {
   "cell_type": "code",
   "execution_count": null,
   "id": "14075ae0",
   "metadata": {},
   "outputs": [],
   "source": [
    "import sys\n",
    "!{sys.executable} -m pip install pytrends"
   ]
  },
  {
   "cell_type": "code",
   "execution_count": null,
   "id": "0a9f5ae2",
   "metadata": {},
   "outputs": [],
   "source": [
    "import pandas as pd\n",
    "import matplotlib.pyplot as plt\n",
    "import pytrends as pt\n",
    "from pytrends.request import TrendReq"
   ]
  },
  {
   "cell_type": "code",
   "execution_count": null,
   "id": "16dbc4ad",
   "metadata": {},
   "outputs": [],
   "source": [
    "def pytrendshare(seach_language, time_zone_value, time_frame, key_word_list):\n",
    "    # Create pytrends object\n",
    "    pytrends = TrendReq(hl = seach_language, tz = time_zone_value)\n",
    "    # Payload for the keyword\n",
    "    pytrends.build_payload(kw_list = key_word_list, timeframe = time_frame)\n",
    "    # Create Dataframe\n",
    "    df = pytrends.interest_over_time()\n",
    "    # drop unessessary column\n",
    "    df = df.drop(columns='isPartial')\n",
    "    # graph the data\n",
    "    fig, ax = plt.subplots(len(key_word_list), 1, figsize=(9, 9), sharey = True)\n",
    "    fig.suptitle('Percentage Share over the period \\\"'+ str(time_frame) +'\\\" of Google Trend Keyword Searches', fontsize = 14, y=0.94)\n",
    "    fig.subplots_adjust(hspace=0.4)\n",
    "    for i in range(0, len(key_word_list)):\n",
    "        df.plot(y=key_word_list[i], ax=ax[i], linewidth = '2.5')\n",
    "        ax[i].set_title(key_word_list[i])\n",
    "        ax[i].set_ylabel('% Share')\n",
    "        ax[i].set(xlabel=None)\n",
    "        ax[i].get_legend().remove()\n",
    "        ax[i].grid(axis = 'y', linestyle = '--')\n",
    "        i+=1\n",
    " "
   ]
  },
  {
   "cell_type": "code",
   "execution_count": null,
   "id": "290295de",
   "metadata": {},
   "outputs": [],
   "source": [
    "pytrendshare('en-UK', '60', 'today 3-m',  ['Football', 'Rugby', 'Tennis'])"
   ]
  },
  {
   "cell_type": "code",
   "execution_count": null,
   "id": "35857f44",
   "metadata": {},
   "outputs": [],
   "source": []
  }
 ],
 "metadata": {
  "kernelspec": {
   "display_name": "Python 3 (ipykernel)",
   "language": "python",
   "name": "python3"
  },
  "language_info": {
   "codemirror_mode": {
    "name": "ipython",
    "version": 3
   },
   "file_extension": ".py",
   "mimetype": "text/x-python",
   "name": "python",
   "nbconvert_exporter": "python",
   "pygments_lexer": "ipython3",
   "version": "3.11.7"
  }
 },
 "nbformat": 4,
 "nbformat_minor": 5
}
